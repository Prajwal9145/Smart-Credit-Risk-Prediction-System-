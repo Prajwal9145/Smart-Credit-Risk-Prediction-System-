{
 "cells": [
  {
   "cell_type": "code",
   "execution_count": null,
   "id": "0dc755f0",
   "metadata": {},
   "outputs": [],
   "source": []
  }
 ],
 "metadata": {
  "kernelspec": {
   "display_name": "project",
   "language": "python",
   "name": "python3"
  },
  "language_info": {
   "name": "python",
   "version": "3.10.10"
  }
 },
 "nbformat": 4,
 "nbformat_minor": 5
}
